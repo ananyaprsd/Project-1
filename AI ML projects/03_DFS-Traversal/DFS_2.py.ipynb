{
  "nbformat": 4,
  "nbformat_minor": 0,
  "metadata": {
    "colab": {
      "provenance": []
    },
    "kernelspec": {
      "name": "python3",
      "display_name": "Python 3"
    },
    "language_info": {
      "name": "python"
    }
  },
  "cells": [
    {
      "cell_type": "code",
      "execution_count": 1,
      "metadata": {
        "colab": {
          "base_uri": "https://localhost:8080/"
        },
        "id": "hFcWUAP_dTX7",
        "outputId": "9f5fef01-4353-4849-d5c6-1829461c7be3"
      },
      "outputs": [
        {
          "output_type": "stream",
          "name": "stdout",
          "text": [
            "{'a': ['b', 'c'], 'b': ['d', 'e'], 'c': ['f', 'g'], 'd': ['b'], 'e': ['b'], 'f': ['c'], 'g': ['c']}\n"
          ]
        }
      ],
      "source": [
        "  v={'a', 'b', 'c', 'd', 'e','f','g' }\n",
        "\n",
        "graph = {'a': ['b', 'c'], 'b': ['d','e'], 'c': ['f', 'g'], 'd': ['b'], 'e': ['b'],'f':['c'],'g':['c']}\n",
        "print(graph)"
      ]
    },
    {
      "cell_type": "code",
      "source": [
        "visited=[]\n",
        "\n",
        "def dfs(visited,graph,node):\n",
        "    if node not in visited:\n",
        "        print(node)\n",
        "        visited.append(node)\n",
        "        for neighbour in graph[node]:\n",
        "            dfs(visited,graph,neighbour)"
      ],
      "metadata": {
        "id": "TAYOz0MyfXog"
      },
      "execution_count": 2,
      "outputs": []
    },
    {
      "cell_type": "code",
      "source": [
        "print(\"following is the depth first search\")\n",
        "dfs(visited,graph,'a')"
      ],
      "metadata": {
        "colab": {
          "base_uri": "https://localhost:8080/"
        },
        "id": "YQTRBMVNfYQI",
        "outputId": "ff37ae18-3b23-44a2-a95c-5ff81c4b3a3b"
      },
      "execution_count": 3,
      "outputs": [
        {
          "output_type": "stream",
          "name": "stdout",
          "text": [
            "following is the depth first search\n",
            "a\n",
            "b\n",
            "d\n",
            "e\n",
            "c\n",
            "f\n",
            "g\n"
          ]
        }
      ]
    },
    {
      "cell_type": "code",
      "source": [],
      "metadata": {
        "id": "7pJzyRgbfdOo"
      },
      "execution_count": 3,
      "outputs": []
    }
  ]
}