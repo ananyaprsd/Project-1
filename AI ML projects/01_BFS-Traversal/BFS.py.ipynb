{
  "nbformat": 4,
  "nbformat_minor": 0,
  "metadata": {
    "colab": {
      "provenance": []
    },
    "kernelspec": {
      "name": "python3",
      "display_name": "Python 3"
    },
    "language_info": {
      "name": "python"
    }
  },
  "cells": [
    {
      "cell_type": "code",
      "execution_count": null,
      "metadata": {
        "id": "kC6GBuEiXqEr"
      },
      "outputs": [],
      "source": [
        "\n",
        "\n",
        "v={'a', 'b', 'c', 'd', 'e' }\n",
        "\n",
        "graph = {'a': ['b', 'c'], 'b': ['a','d'], 'c': ['a', 'd'], 'd': ['b','c', 'e'], 'e': ['d']}"
      ]
    },
    {
      "cell_type": "code",
      "source": [
        "print(graph)"
      ],
      "metadata": {
        "colab": {
          "base_uri": "https://localhost:8080/"
        },
        "id": "1j6FXrQJnHFU",
        "outputId": "e08491c3-5d03-45b1-bc32-b64b145074b1"
      },
      "execution_count": null,
      "outputs": [
        {
          "output_type": "stream",
          "name": "stdout",
          "text": [
            "{'a': ['b', 'c'], 'b': ['a', 'd'], 'c': ['a', 'd'], 'd': ['b', 'c', 'e'], 'e': ['d']}\n"
          ]
        }
      ]
    },
    {
      "cell_type": "code",
      "source": [
        "visited=[]\n",
        "queue=[]\n",
        "def bfs(visited,graph,node):\n",
        "  visited.append(node)\n",
        "  queue.append(node)\n",
        "  while(queue):\n",
        "    m=queue.pop(0)\n",
        "    print(m,end=\" \")\n",
        "    for neighbour in graph[m]:\n",
        "      if neighbour not in visited:\n",
        "        visited.append(neighbour)\n",
        "        queue.append(neighbour)\n",
        "\n"
      ],
      "metadata": {
        "id": "pjH6UKZdnvtS"
      },
      "execution_count": null,
      "outputs": []
    },
    {
      "cell_type": "code",
      "source": [
        "print(\"The path of bfs algorithm is\")\n",
        "bfs(visited,graph,'a')"
      ],
      "metadata": {
        "colab": {
          "base_uri": "https://localhost:8080/"
        },
        "id": "Iu5pKFLnoinz",
        "outputId": "ec03f212-e86b-4306-eff3-9ead7f5f592a"
      },
      "execution_count": null,
      "outputs": [
        {
          "output_type": "stream",
          "name": "stdout",
          "text": [
            "The path of bfs algorithm is\n",
            "a b c d e "
          ]
        }
      ]
    },
    {
      "cell_type": "code",
      "source": [],
      "metadata": {
        "id": "2g5Tk0JOovsK"
      },
      "execution_count": null,
      "outputs": []
    }
  ]
}