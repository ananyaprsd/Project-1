{
  "nbformat": 4,
  "nbformat_minor": 0,
  "metadata": {
    "colab": {
      "provenance": []
    },
    "kernelspec": {
      "name": "python3",
      "display_name": "Python 3"
    },
    "language_info": {
      "name": "python"
    }
  },
  "cells": [
    {
      "cell_type": "code",
      "source": [
        "from IPython import get_ipython\n",
        "from IPython.display import display\n",
        "\n",
        "import queue as q\n",
        "\n",
        "\n",
        "\n",
        "class Graph:\n",
        "    def __init__(self):\n",
        "        self.graph = {\n",
        "            \"/\": [(0, (\"/\", \"A\"))],\n",
        "            \"A\": [(9, (\"A\", \"B\")), (4, (\"A\", \"C\")), (7, (\"A\", \"D\"))],\n",
        "            \"B\": [(9, (\"B\", \"A\")), (11, (\"B\", \"E\"))],\n",
        "            \"C\": [(4, (\"C\", \"A\")), (17, (\"C\", \"E\")), (12, (\"C\", \"F\"))],\n",
        "            \"D\": [(7, (\"D\", \"A\")), (14, (\"D\", \"F\"))],\n",
        "            \"E\": [(11, (\"E\", \"B\")), (17, (\"E\", \"C\")), (5, (\"E\", \"Z\"))],\n",
        "            \"F\": [(12, (\"F\", \"C\")), (14, (\"F\", \"D\")), (9, (\"F\", \"Z\"))],\n",
        "            \"Z\": [(5, (\"Z\", \"E\")), (9, (\"Z\", \"F\"))]\n",
        "        }\n",
        "        self.edges = {}\n",
        "        self.weights = {}\n",
        "        self.heuristics = {\n",
        "            \"A\": 21,\n",
        "            \"B\": 14,\n",
        "            \"C\": 18,\n",
        "            \"D\": 18,\n",
        "            \"E\": 5,\n",
        "            \"F\": 8,\n",
        "            \"Z\": 0\n",
        "        }\n",
        "\n",
        "        self.populate_edges()\n",
        "        self.populate_weights()\n",
        "        print(\"edges : \", self.edges)\n",
        "        print(\"weights : \", self.weights)\n",
        "\n",
        "    def populate_edges(self):\n",
        "        for key in self.graph:\n",
        "            neighbours = []\n",
        "            for each_tuple in self.graph[key]:\n",
        "                neighbours.append(each_tuple[1][1])\n",
        "            self.edges[key] = neighbours\n",
        "\n",
        "    def populate_weights(self):\n",
        "        for key in self.graph:\n",
        "            neighbours = self.graph[key]\n",
        "            for each_tuple in neighbours:\n",
        "\n",
        "                self.weights[each_tuple[1]] = each_tuple[0]\n",
        "\n",
        "\n",
        "\n",
        "    def neighbours(self,node):\n",
        "        return self.edges[node]\n",
        "\n",
        "    def get_cost(self,from_node,to_node):\n",
        "        return self.weights[(from_node,to_node)]\n",
        "\n",
        "    def get_heuristic(self,node):\n",
        "        return self.heuristics[node]\n",
        "\n",
        "def astar(graph,start,goal):\n",
        "  visited = []\n",
        "  queue = q.PriorityQueue()\n",
        "  queue.put((0,start))\n",
        "  while queue:\n",
        "    cost,node = queue.get()\n",
        "    if node not in visited:\n",
        "      visited.append(node)\n",
        "      if node == goal:\n",
        "        break\n",
        "      for i in graph.neighbours(node):\n",
        "        if i not in visited:\n",
        "          g = cost + graph.get_cost(node,i)\n",
        "          total_cost = g + graph.get_heuristic(i)\n",
        "          queue.put((total_cost,i))\n",
        "  return visited\n",
        "\n",
        "print(\"Traversal : \",astar(Graph(),\"A\",\"Z\"))\n"
      ],
      "metadata": {
        "id": "EyKNatCkzqOz",
        "outputId": "e4518de3-a039-47df-a126-8325148e9288",
        "colab": {
          "base_uri": "https://localhost:8080/"
        }
      },
      "execution_count": null,
      "outputs": [
        {
          "output_type": "stream",
          "name": "stdout",
          "text": [
            "edges :  {'/': ['A'], 'A': ['B', 'C', 'D'], 'B': ['A', 'E'], 'C': ['A', 'E', 'F'], 'D': ['A', 'F'], 'E': ['B', 'C', 'Z'], 'F': ['C', 'D', 'Z'], 'Z': ['E', 'F']}\n",
            "weights :  {('/', 'A'): 0, ('A', 'B'): 9, ('A', 'C'): 4, ('A', 'D'): 7, ('B', 'A'): 9, ('B', 'E'): 11, ('C', 'A'): 4, ('C', 'E'): 17, ('C', 'F'): 12, ('D', 'A'): 7, ('D', 'F'): 14, ('E', 'B'): 11, ('E', 'C'): 17, ('E', 'Z'): 5, ('F', 'C'): 12, ('F', 'D'): 14, ('F', 'Z'): 9, ('Z', 'E'): 5, ('Z', 'F'): 9}\n",
            "Traversal :  ['A', 'C', 'B', 'D', 'E', 'F', 'Z']\n"
          ]
        }
      ]
    }
  ]
}